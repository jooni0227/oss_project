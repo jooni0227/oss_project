{
  "nbformat": 4,
  "nbformat_minor": 0,
  "metadata": {
    "colab": {
      "provenance": []
    },
    "kernelspec": {
      "name": "python3",
      "display_name": "Python 3"
    },
    "language_info": {
      "name": "python"
    }
  },
  "cells": [
    {
      "cell_type": "code",
      "execution_count": null,
      "metadata": {
        "id": "LHgpWbV5wE6U"
      },
      "outputs": [],
      "source": [
        "import pandas as pd"
      ]
    },
    {
      "cell_type": "code",
      "source": [
        "# Read a csv file\n",
        "df = pd.read_csv('/content/sample_data/california_housing_test.csv');\n",
        "df.head();"
      ],
      "metadata": {
        "id": "ZeJDvtSQ4lgx"
      },
      "execution_count": null,
      "outputs": []
    }
  ]
}